{
 "cells": [
  {
   "cell_type": "code",
   "execution_count": 3,
   "id": "a4121150-5f7c-41b7-a2eb-4db7a606ede9",
   "metadata": {},
   "outputs": [
    {
     "name": "stdout",
     "output_type": "stream",
     "text": [
      "Collecting gtts\n",
      "  Obtaining dependency information for gtts from https://files.pythonhosted.org/packages/59/a8/e3434904445eacf03b857ac001755d8ffac49b4f3339d63592b4eda009dc/gTTS-2.5.1-py3-none-any.whl.metadata\n",
      "  Downloading gTTS-2.5.1-py3-none-any.whl.metadata (4.1 kB)\n",
      "Requirement already satisfied: requests<3,>=2.27 in c:\\users\\gayatri bhandge\\anaconda3\\envs\\jupyterlab\\lib\\site-packages (from gtts) (2.31.0)\n",
      "Requirement already satisfied: click<8.2,>=7.1 in c:\\users\\gayatri bhandge\\anaconda3\\envs\\jupyterlab\\lib\\site-packages (from gtts) (8.1.7)\n",
      "Requirement already satisfied: colorama in c:\\users\\gayatri bhandge\\anaconda3\\envs\\jupyterlab\\lib\\site-packages (from click<8.2,>=7.1->gtts) (0.4.6)\n",
      "Requirement already satisfied: charset-normalizer<4,>=2 in c:\\users\\gayatri bhandge\\anaconda3\\envs\\jupyterlab\\lib\\site-packages (from requests<3,>=2.27->gtts) (2.0.4)\n",
      "Requirement already satisfied: idna<4,>=2.5 in c:\\users\\gayatri bhandge\\anaconda3\\envs\\jupyterlab\\lib\\site-packages (from requests<3,>=2.27->gtts) (3.4)\n",
      "Requirement already satisfied: urllib3<3,>=1.21.1 in c:\\users\\gayatri bhandge\\anaconda3\\envs\\jupyterlab\\lib\\site-packages (from requests<3,>=2.27->gtts) (1.26.18)\n",
      "Requirement already satisfied: certifi>=2017.4.17 in c:\\users\\gayatri bhandge\\anaconda3\\envs\\jupyterlab\\lib\\site-packages (from requests<3,>=2.27->gtts) (2023.11.17)\n",
      "Downloading gTTS-2.5.1-py3-none-any.whl (29 kB)\n",
      "Installing collected packages: gtts\n",
      "Successfully installed gtts-2.5.1\n",
      "Note: you may need to restart the kernel to use updated packages.\n"
     ]
    }
   ],
   "source": [
    "pip install gtts"
   ]
  },
  {
   "cell_type": "code",
   "execution_count": 10,
   "id": "61355331-8ef4-4a03-a98b-43d46109a30e",
   "metadata": {},
   "outputs": [],
   "source": [
    "from gtts import gTTS\n",
    "import os\n",
    "\n",
    "texts = {\n",
    "    'hindi': \"नमस्ते!\",\n",
    "    'marathi' : \"मी गायत्री भांडगे\",\n",
    "    'english': \"Hello, how are you?\"\n",
    "}\n",
    "\n",
    "\n",
    "for lang, text in texts.items():\n",
    "    \n",
    "    if lang == 'hindi':\n",
    "        language = 'hi'  \n",
    "    elif lang == 'marathi':\n",
    "        language = 'mr'\n",
    "    elif lang == 'english':\n",
    "        language = 'en'  \n",
    "    \n",
    "    \n",
    "    speech = gTTS(text=text, lang=language, slow=False)\n",
    "    \n",
    "    file_name = f\"output_{lang}.mp3\"\n",
    "    speech.save(file_name)\n",
    "    \n",
    "    os.system(f\"start {file_name}\")"
   ]
  },
  {
   "cell_type": "code",
   "execution_count": null,
   "id": "fbc541b4-fadc-4281-8a29-25023dc9f53d",
   "metadata": {},
   "outputs": [],
   "source": []
  }
 ],
 "metadata": {
  "kernelspec": {
   "display_name": "Python 3 (ipykernel)",
   "language": "python",
   "name": "python3"
  },
  "language_info": {
   "codemirror_mode": {
    "name": "ipython",
    "version": 3
   },
   "file_extension": ".py",
   "mimetype": "text/x-python",
   "name": "python",
   "nbconvert_exporter": "python",
   "pygments_lexer": "ipython3",
   "version": "3.11.5"
  }
 },
 "nbformat": 4,
 "nbformat_minor": 5
}
